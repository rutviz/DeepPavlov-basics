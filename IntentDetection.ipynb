{
  "nbformat": 4,
  "nbformat_minor": 0,
  "metadata": {
    "colab": {
      "name": "DeepPavlov_1.ipynb",
      "version": "0.3.2",
      "provenance": [],
      "collapsed_sections": [],
      "include_colab_link": true
    },
    "kernelspec": {
      "name": "python3",
      "display_name": "Python 3"
    },
    "accelerator": "GPU"
  },
  "cells": [
    {
      "cell_type": "markdown",
      "metadata": {
        "id": "view-in-github",
        "colab_type": "text"
      },
      "source": [
        "<a href=\"https://colab.research.google.com/github/rutviz/DeepPavlov-basics/blob/master/DeepPavlov_basic_model.ipynb\" target=\"_parent\"><img src=\"https://colab.research.google.com/assets/colab-badge.svg\" alt=\"Open In Colab\"/></a>"
      ]
    },
    {
      "cell_type": "code",
      "metadata": {
        "id": "uq2r95mXZhLE",
        "colab_type": "code",
        "colab": {
          "base_uri": "https://localhost:8080/",
          "height": 50
        },
        "outputId": "7208f438-00e9-4288-d40e-677983facabc"
      },
      "source": [
        "from deeppavlov.core.data.utils import simple_download\n",
        "simple_download(url=\"http://files.deeppavlov.ai/datasets/snips_intents/train.csv\", \n",
        "                destination=\"./snips/train.csv\")"
      ],
      "execution_count": 2,
      "outputs": [
        {
          "output_type": "stream",
          "text": [
            "2019-06-06 01:28:22.310 INFO in 'deeppavlov.core.data.utils'['utils'] at line 63: Downloading from http://files.deeppavlov.ai/datasets/snips_intents/train.csv to snips/train.csv\n",
            "100%|██████████| 981k/981k [00:00<00:00, 1.10MB/s]\n"
          ],
          "name": "stderr"
        }
      ]
    },
    {
      "cell_type": "code",
      "metadata": {
        "id": "LCiJtPFXZu4W",
        "colab_type": "code",
        "colab": {
          "base_uri": "https://localhost:8080/",
          "height": 423
        },
        "outputId": "899c01c8-eb08-4896-f719-7f7358d70be0"
      },
      "source": [
        "! head -n 25 snips/train.csv"
      ],
      "execution_count": 4,
      "outputs": [
        {
          "output_type": "stream",
          "text": [
            "text,intents\n",
            "Add another song to the Cita RomГЎntica playlist. ,AddToPlaylist\n",
            "add clem burke in my playlist Pre-Party R&B Jams,AddToPlaylist\n",
            "Add Live from Aragon Ballroom to Trapeo,AddToPlaylist\n",
            "add Unite and Win to my night out,AddToPlaylist\n",
            "Add track to my Digster Future Hits,AddToPlaylist\n",
            "add the piano bar to my Cindy Wilson,AddToPlaylist\n",
            "Add Spanish Harlem Incident to cleaning the house,AddToPlaylist\n",
            "add The Greyest of Blue Skies in Indie EspaГ±ol my playlist,AddToPlaylist\n",
            "Add the name kids in the street to the plylist New Indie Mix,AddToPlaylist\n",
            "add album radar latino,AddToPlaylist\n",
            "Add Tranquility to the Latin Pop Rising playlist. ,AddToPlaylist\n",
            "Add d flame to the Dcode2016 playlist.,AddToPlaylist\n",
            "Add album to my fairy tales,AddToPlaylist\n",
            "I need another artist in the New Indie Mix playlist. ,AddToPlaylist\n",
            "Add to playlist i love my neo soul the name national treasure book of secrets,AddToPlaylist\n",
            "Add the fire and the wind to my Digster Future Hits playlist.,AddToPlaylist\n",
            "add Caleigh Peters to my women of country list,AddToPlaylist\n",
            "add children of telepathic experiences to the playlist named baladas romГЎnticas,AddToPlaylist\n",
            "add 9th Inning to my bossa nova dinner playlist,AddToPlaylist\n",
            "I need another tune in my legendary guitar solos playlist. ,AddToPlaylist\n",
            "Add Slimm Cutta Calhoun to my this is prince playlist. ,AddToPlaylist\n",
            "Add Always to dena's Baroque 50 Spotify Picks playlist. ,AddToPlaylist\n",
            "add song to Sleepytime,AddToPlaylist\n",
            "Add an album to my list La Mejor MГєsica Dance 2017,AddToPlaylist\n"
          ],
          "name": "stdout"
        }
      ]
    },
    {
      "cell_type": "code",
      "metadata": {
        "id": "yvi1FaCOZ2m7",
        "colab_type": "code",
        "colab": {}
      },
      "source": [
        "from deeppavlov.dataset_readers.basic_classification_reader import BasicClassificationDatasetReader"
      ],
      "execution_count": 0,
      "outputs": []
    },
    {
      "cell_type": "code",
      "metadata": {
        "id": "kn2cKw9dZ5qe",
        "colab_type": "code",
        "colab": {
          "base_uri": "https://localhost:8080/",
          "height": 50
        },
        "outputId": "af128dc8-68e0-4bba-c238-a89d166f3ebd"
      },
      "source": [
        "dr = BasicClassificationDatasetReader().read(\n",
        "    data_path='./snips/',\n",
        "    train='train.csv',\n",
        "    x = 'text',\n",
        "    y = 'intents'\n",
        ")"
      ],
      "execution_count": 6,
      "outputs": [
        {
          "output_type": "stream",
          "text": [
            "2019-06-06 01:29:35.268 WARNING in 'deeppavlov.dataset_readers.basic_classification_reader'['basic_classification_reader'] at line 95: Cannot find snips/valid.csv file\n",
            "2019-06-06 01:29:35.269 WARNING in 'deeppavlov.dataset_readers.basic_classification_reader'['basic_classification_reader'] at line 95: Cannot find snips/test.csv file\n"
          ],
          "name": "stderr"
        }
      ]
    },
    {
      "cell_type": "code",
      "metadata": {
        "id": "VRoN7Ve4aUIW",
        "colab_type": "code",
        "colab": {
          "base_uri": "https://localhost:8080/",
          "height": 33
        },
        "outputId": "83bfa520-efd4-4b6d-c221-9f730ff61142"
      },
      "source": [
        "[(k, len(dr[k])) for k in dr.keys()]"
      ],
      "execution_count": 7,
      "outputs": [
        {
          "output_type": "execute_result",
          "data": {
            "text/plain": [
              "[('train', 15884), ('valid', 0), ('test', 0)]"
            ]
          },
          "metadata": {
            "tags": []
          },
          "execution_count": 7
        }
      ]
    },
    {
      "cell_type": "code",
      "metadata": {
        "id": "oAGDMvkYaajH",
        "colab_type": "code",
        "colab": {}
      },
      "source": [
        "from deeppavlov.dataset_iterators.basic_classification_iterator import BasicClassificationDatasetIterator"
      ],
      "execution_count": 0,
      "outputs": []
    },
    {
      "cell_type": "code",
      "metadata": {
        "id": "vFqXzMJwadhE",
        "colab_type": "code",
        "colab": {
          "base_uri": "https://localhost:8080/",
          "height": 33
        },
        "outputId": "bde1e6c6-36c6-4fc3-c236-8d504393b670"
      },
      "source": [
        "train_iterator = BasicClassificationDatasetIterator(\n",
        "    data=dr,\n",
        "    field_to_split='train',  # field that will be splitted\n",
        "    split_fields=['train', 'valid'],   # fields to which the fiald above will be splitted\n",
        "    split_proportions=[0.8, 0.2],  #proportions for splitting\n",
        "    split_seed=23,  # seed for splitting dataset\n",
        "    seed=42)  # seed for iteration over dataset"
      ],
      "execution_count": 9,
      "outputs": [
        {
          "output_type": "stream",
          "text": [
            "2019-06-06 01:32:05.377 INFO in 'deeppavlov.dataset_iterators.basic_classification_iterator'['basic_classification_iterator'] at line 73: Splitting field <<train>> to new fields <<['train', 'valid']>>\n"
          ],
          "name": "stderr"
        }
      ]
    },
    {
      "cell_type": "code",
      "metadata": {
        "id": "ItLVbdb7anUO",
        "colab_type": "code",
        "colab": {
          "base_uri": "https://localhost:8080/",
          "height": 261
        },
        "outputId": "0fa0fe07-51b9-4050-837f-68a05714b7a0"
      },
      "source": [
        "# one can get train instances (or any other data type including `all`)\n",
        "x_train, y_train = train_iterator.get_instances(data_type='train')\n",
        "for x, y in list(zip(x_train, y_train))[:5]:\n",
        "    print('x:', x)\n",
        "    print('y:', y)\n",
        "    print('=================')"
      ],
      "execution_count": 10,
      "outputs": [
        {
          "output_type": "stream",
          "text": [
            "x: Is it freezing in Offerman, California?\n",
            "y: ['GetWeather']\n",
            "=================\n",
            "x: put this song in the playlist Trap Land\n",
            "y: ['AddToPlaylist']\n",
            "=================\n",
            "x: show me a textbook with a rating of 2 and a maximum rating of 6 that is current\n",
            "y: ['RateBook']\n",
            "=================\n",
            "x: Will the weather be okay in Northern Luzon Heroes Hill National Park 4 and a half months from now?\n",
            "y: ['GetWeather']\n",
            "=================\n",
            "x: Rate the current album a four\n",
            "y: ['RateBook']\n",
            "=================\n"
          ],
          "name": "stdout"
        }
      ]
    },
    {
      "cell_type": "code",
      "metadata": {
        "id": "qx1PzXdxa2Ii",
        "colab_type": "code",
        "colab": {
          "base_uri": "https://localhost:8080/",
          "height": 163
        },
        "outputId": "521ed4fe-7560-4a9b-ab41-b23e3ef0addd"
      },
      "source": [
        "from deeppavlov.models.preprocessors.str_lower import StrLower"
      ],
      "execution_count": 11,
      "outputs": [
        {
          "output_type": "stream",
          "text": [
            "[nltk_data] Downloading package punkt to /root/nltk_data...\n",
            "[nltk_data]   Package punkt is already up-to-date!\n",
            "[nltk_data] Downloading package stopwords to /root/nltk_data...\n",
            "[nltk_data]   Package stopwords is already up-to-date!\n",
            "[nltk_data] Downloading package perluniprops to /root/nltk_data...\n",
            "[nltk_data]   Package perluniprops is already up-to-date!\n",
            "[nltk_data] Downloading package nonbreaking_prefixes to\n",
            "[nltk_data]     /root/nltk_data...\n",
            "[nltk_data]   Package nonbreaking_prefixes is already up-to-date!\n"
          ],
          "name": "stderr"
        }
      ]
    },
    {
      "cell_type": "code",
      "metadata": {
        "id": "7wFemKhca6tI",
        "colab_type": "code",
        "colab": {
          "base_uri": "https://localhost:8080/",
          "height": 33
        },
        "outputId": "92a01e98-5ea8-4fb7-c877-4eb7648908b0"
      },
      "source": [
        "str_lower = StrLower()\n",
        "str_lower(['Is it freezing in Offerman, California?'])"
      ],
      "execution_count": 12,
      "outputs": [
        {
          "output_type": "execute_result",
          "data": {
            "text/plain": [
              "['is it freezing in offerman, california?']"
            ]
          },
          "metadata": {
            "tags": []
          },
          "execution_count": 12
        }
      ]
    },
    {
      "cell_type": "code",
      "metadata": {
        "id": "ZZP7SRmXbAbj",
        "colab_type": "code",
        "colab": {}
      },
      "source": [
        "from deeppavlov.models.tokenizers.nltk_moses_tokenizer import NLTKMosesTokenizer"
      ],
      "execution_count": 0,
      "outputs": []
    },
    {
      "cell_type": "code",
      "metadata": {
        "id": "m3pUx-SBbDIP",
        "colab_type": "code",
        "colab": {
          "base_uri": "https://localhost:8080/",
          "height": 33
        },
        "outputId": "a6700957-94b8-416c-cc8c-01efa6e1bf37"
      },
      "source": [
        "\n",
        "tokenizer = NLTKMosesTokenizer()\n",
        "tokenizer(['Is it freezing in Offerman, California?'])"
      ],
      "execution_count": 14,
      "outputs": [
        {
          "output_type": "execute_result",
          "data": {
            "text/plain": [
              "[['Is', 'it', 'freezing', 'in', 'Offerman', ',', 'California', '?']]"
            ]
          },
          "metadata": {
            "tags": []
          },
          "execution_count": 14
        }
      ]
    },
    {
      "cell_type": "code",
      "metadata": {
        "id": "YM0JwlXSbHXU",
        "colab_type": "code",
        "colab": {}
      },
      "source": [
        "train_x_lower_tokenized = str_lower(tokenizer(train_iterator.get_instances(data_type='train')[0]))\n"
      ],
      "execution_count": 0,
      "outputs": []
    },
    {
      "cell_type": "code",
      "metadata": {
        "id": "yxf9dKKbbN8h",
        "colab_type": "code",
        "colab": {}
      },
      "source": [
        "from deeppavlov.core.data.simple_vocab import SimpleVocabulary"
      ],
      "execution_count": 0,
      "outputs": []
    },
    {
      "cell_type": "code",
      "metadata": {
        "id": "vP_P4qcWbQTg",
        "colab_type": "code",
        "colab": {}
      },
      "source": [
        "# initialize simple vocabulary to collect all appeared in the dataset classes\n",
        "classes_vocab = SimpleVocabulary(\n",
        "    save_path='./snips/classes.dict',\n",
        "    load_path='./snips/classes.dict')"
      ],
      "execution_count": 0,
      "outputs": []
    },
    {
      "cell_type": "code",
      "metadata": {
        "id": "4WwhqyD0bc0X",
        "colab_type": "code",
        "colab": {
          "base_uri": "https://localhost:8080/",
          "height": 33
        },
        "outputId": "c8724682-bd05-4549-9128-579821d0f1dd"
      },
      "source": [
        "classes_vocab.fit((train_iterator.get_instances(data_type='train')[1]))\n",
        "classes_vocab.save()"
      ],
      "execution_count": 18,
      "outputs": [
        {
          "output_type": "stream",
          "text": [
            "2019-06-06 01:36:07.335 INFO in 'deeppavlov.core.data.simple_vocab'['simple_vocab'] at line 89: [saving vocabulary to /content/snips/classes.dict]\n"
          ],
          "name": "stderr"
        }
      ]
    },
    {
      "cell_type": "code",
      "metadata": {
        "id": "K2oW06OFbjob",
        "colab_type": "code",
        "colab": {
          "base_uri": "https://localhost:8080/",
          "height": 131
        },
        "outputId": "5cbc48b3-c1e5-4f9b-9a60-fd40c0e5a82c"
      },
      "source": [
        "list(classes_vocab.items())"
      ],
      "execution_count": 25,
      "outputs": [
        {
          "output_type": "execute_result",
          "data": {
            "text/plain": [
              "[('GetWeather', 0),\n",
              " ('PlayMusic', 1),\n",
              " ('SearchScreeningEvent', 2),\n",
              " ('BookRestaurant', 3),\n",
              " ('RateBook', 4),\n",
              " ('SearchCreativeWork', 5),\n",
              " ('AddToPlaylist', 6)]"
            ]
          },
          "metadata": {
            "tags": []
          },
          "execution_count": 25
        }
      ]
    },
    {
      "cell_type": "code",
      "metadata": {
        "id": "3mFoCJzobr41",
        "colab_type": "code",
        "colab": {}
      },
      "source": [
        "\n",
        "# also one can collect vocabulary of textual tokens appeared 2 and more times in the dataset\n",
        "token_vocab = SimpleVocabulary(\n",
        "    save_path='./snips/tokens.dict',\n",
        "    load_path='./snips/tokens.dict',\n",
        "    min_freq=2,\n",
        "    special_tokens=('<PAD>', '<UNK>',),\n",
        "    unk_token='<UNK>')"
      ],
      "execution_count": 0,
      "outputs": []
    },
    {
      "cell_type": "code",
      "metadata": {
        "id": "4_D9kNJtb0Bf",
        "colab_type": "code",
        "colab": {
          "base_uri": "https://localhost:8080/",
          "height": 33
        },
        "outputId": "a7a9b4b6-f8cc-4425-fd22-a0c2c8b01a2e"
      },
      "source": [
        "token_vocab.fit(train_x_lower_tokenized)\n",
        "token_vocab.save()"
      ],
      "execution_count": 21,
      "outputs": [
        {
          "output_type": "stream",
          "text": [
            "2019-06-06 01:37:43.944 INFO in 'deeppavlov.core.data.simple_vocab'['simple_vocab'] at line 89: [saving vocabulary to /content/snips/tokens.dict]\n"
          ],
          "name": "stderr"
        }
      ]
    },
    {
      "cell_type": "code",
      "metadata": {
        "id": "in9KueBpb3Ul",
        "colab_type": "code",
        "colab": {
          "base_uri": "https://localhost:8080/",
          "height": 261
        },
        "outputId": "c2c6cd9c-543d-4985-e1d2-af594631221d"
      },
      "source": [
        "list(token_vocab.freqs.most_common())[:15]"
      ],
      "execution_count": 29,
      "outputs": [
        {
          "output_type": "execute_result",
          "data": {
            "text/plain": [
              "[('the', 6953),\n",
              " ('a', 3917),\n",
              " ('in', 3265),\n",
              " ('to', 3203),\n",
              " ('for', 2814),\n",
              " ('of', 2401),\n",
              " ('.', 2400),\n",
              " ('i', 2079),\n",
              " ('at', 1935),\n",
              " ('play', 1703),\n",
              " ('book', 1536),\n",
              " ('is', 1509),\n",
              " ('add', 1467),\n",
              " ('what', 1352),\n",
              " ('my', 1311)]"
            ]
          },
          "metadata": {
            "tags": []
          },
          "execution_count": 29
        }
      ]
    },
    {
      "cell_type": "code",
      "metadata": {
        "id": "rDFfbXC7chbk",
        "colab_type": "code",
        "colab": {
          "base_uri": "https://localhost:8080/",
          "height": 33
        },
        "outputId": "0638398e-6bfd-4e93-9bad-91458b74a4a2"
      },
      "source": [
        "token_id = token_vocab(str_lower(tokenizer([\"Is it freezing in Offerman, California?\"])))\n",
        "token_id"
      ],
      "execution_count": 38,
      "outputs": [
        {
          "output_type": "execute_result",
          "data": {
            "text/plain": [
              "[[13, 36, 244, 4, 1, 29, 996, 20]]"
            ]
          },
          "metadata": {
            "tags": []
          },
          "execution_count": 38
        }
      ]
    },
    {
      "cell_type": "code",
      "metadata": {
        "id": "cxzWZPQxdw6q",
        "colab_type": "code",
        "colab": {
          "base_uri": "https://localhost:8080/",
          "height": 33
        },
        "outputId": "340abaa8-b371-4811-baaa-9719cd391114"
      },
      "source": [
        "tokenizer(token_vocab(token_id))"
      ],
      "execution_count": 39,
      "outputs": [
        {
          "output_type": "execute_result",
          "data": {
            "text/plain": [
              "['is it freezing in <UNK>, california?']"
            ]
          },
          "metadata": {
            "tags": []
          },
          "execution_count": 39
        }
      ]
    },
    {
      "cell_type": "code",
      "metadata": {
        "id": "4cVZoeAAd6PT",
        "colab_type": "code",
        "colab": {}
      },
      "source": [
        "import numpy as np\n",
        "from deeppavlov.models.embedders.bow_embedder import BoWEmbedder"
      ],
      "execution_count": 0,
      "outputs": []
    },
    {
      "cell_type": "code",
      "metadata": {
        "id": "NsKp6rr2eO-P",
        "colab_type": "code",
        "colab": {
          "base_uri": "https://localhost:8080/",
          "height": 33
        },
        "outputId": "2d55b7eb-dbd3-4f08-b78c-126a7b3822bd"
      },
      "source": [
        "# initialize bag-of-words embedder giving total number of tokens\n",
        "bow = BoWEmbedder(depth=token_vocab.len)\n",
        "# it assumes indexed tokenized samples\n",
        "bow(token_vocab(str_lower(tokenizer(['Is it freezing in Offerman, California?']))))"
      ],
      "execution_count": 41,
      "outputs": [
        {
          "output_type": "execute_result",
          "data": {
            "text/plain": [
              "[array([0, 1, 0, ..., 0, 0, 0], dtype=int32)]"
            ]
          },
          "metadata": {
            "tags": []
          },
          "execution_count": 41
        }
      ]
    },
    {
      "cell_type": "code",
      "metadata": {
        "id": "Od_WRgoSefBL",
        "colab_type": "code",
        "colab": {
          "base_uri": "https://localhost:8080/",
          "height": 33
        },
        "outputId": "0d07fea0-4cf3-4015-ef1c-a5b118ab6c46"
      },
      "source": [
        "# all 8 tokens are in the vocabulary\n",
        "sum(bow(token_vocab(str_lower(tokenizer(['Is it freezing in Offerman, California?']))))[0])"
      ],
      "execution_count": 42,
      "outputs": [
        {
          "output_type": "execute_result",
          "data": {
            "text/plain": [
              "8"
            ]
          },
          "metadata": {
            "tags": []
          },
          "execution_count": 42
        }
      ]
    },
    {
      "cell_type": "code",
      "metadata": {
        "id": "iR82aEFzepdi",
        "colab_type": "code",
        "colab": {}
      },
      "source": [
        "\n",
        "from deeppavlov.models.sklearn import SklearnComponent"
      ],
      "execution_count": 0,
      "outputs": []
    },
    {
      "cell_type": "code",
      "metadata": {
        "id": "rQbI3WmSeskA",
        "colab_type": "code",
        "colab": {
          "base_uri": "https://localhost:8080/",
          "height": 50
        },
        "outputId": "1bc07b6c-630d-4ada-ea84-71e833714c77"
      },
      "source": [
        "\n",
        "# initialize TF-IDF vectorizer sklearn component with `transform` as infer method\n",
        "tfidf = SklearnComponent(\n",
        "    model_class=\"sklearn.feature_extraction.text:TfidfVectorizer\",\n",
        "    infer_method=\"transform\",\n",
        "    save_path='./tfidf_v0.pkl',\n",
        "    load_path='./tfidf_v0.pkl',\n",
        "    mode='train')"
      ],
      "execution_count": 44,
      "outputs": [
        {
          "output_type": "stream",
          "text": [
            "2019-06-06 01:50:18.335 WARNING in 'deeppavlov.models.sklearn.sklearn_component'['sklearn_component'] at line 218: Cannot load model from /content/tfidf_v0.pkl\n",
            "2019-06-06 01:50:18.336 INFO in 'deeppavlov.models.sklearn.sklearn_component'['sklearn_component'] at line 165: Initializing model sklearn.feature_extraction.text:TfidfVectorizer from scratch\n"
          ],
          "name": "stderr"
        }
      ]
    },
    {
      "cell_type": "code",
      "metadata": {
        "id": "h_xpvonyfr7P",
        "colab_type": "code",
        "colab": {
          "base_uri": "https://localhost:8080/",
          "height": 50
        },
        "outputId": "1754943a-0102-40fe-e5d4-671c0887343a"
      },
      "source": [
        "tfidf.fit(str_lower(train_iterator.get_instances(data_type='train')[0]))\n",
        "tfidf.save()"
      ],
      "execution_count": 45,
      "outputs": [
        {
          "output_type": "stream",
          "text": [
            "2019-06-06 01:54:38.128 INFO in 'deeppavlov.models.sklearn.sklearn_component'['sklearn_component'] at line 108: Fitting model sklearn.feature_extraction.text:TfidfVectorizer\n",
            "2019-06-06 01:54:38.264 INFO in 'deeppavlov.models.sklearn.sklearn_component'['sklearn_component'] at line 240: Saving model to /content/tfidf_v0.pkl\n"
          ],
          "name": "stderr"
        }
      ]
    },
    {
      "cell_type": "code",
      "metadata": {
        "id": "RUWtdGj2fvz6",
        "colab_type": "code",
        "colab": {
          "base_uri": "https://localhost:8080/",
          "height": 50
        },
        "outputId": "bd74c51c-7160-41c4-f981-d3ad6c22d8f0"
      },
      "source": [
        "tfidf(str_lower(['Is it freezing in Offerman, California?']))"
      ],
      "execution_count": 46,
      "outputs": [
        {
          "output_type": "execute_result",
          "data": {
            "text/plain": [
              "<1x10709 sparse matrix of type '<class 'numpy.float64'>'\n",
              "\twith 6 stored elements in Compressed Sparse Row format>"
            ]
          },
          "metadata": {
            "tags": []
          },
          "execution_count": 46
        }
      ]
    },
    {
      "cell_type": "code",
      "metadata": {
        "id": "8ydW0L7ffz02",
        "colab_type": "code",
        "colab": {
          "base_uri": "https://localhost:8080/",
          "height": 33
        },
        "outputId": "bdb06b6b-2e43-469a-eb2a-98d6b4d16d54"
      },
      "source": [
        "len(tfidf.model.vocabulary_)"
      ],
      "execution_count": 47,
      "outputs": [
        {
          "output_type": "execute_result",
          "data": {
            "text/plain": [
              "10709"
            ]
          },
          "metadata": {
            "tags": []
          },
          "execution_count": 47
        }
      ]
    },
    {
      "cell_type": "code",
      "metadata": {
        "id": "0mV7kQjkgBvn",
        "colab_type": "code",
        "colab": {}
      },
      "source": [
        "from deeppavlov.models.embedders.glove_embedder import GloVeEmbedder\n"
      ],
      "execution_count": 0,
      "outputs": []
    },
    {
      "cell_type": "code",
      "metadata": {
        "id": "k23iT4oNgD6e",
        "colab_type": "code",
        "colab": {
          "base_uri": "https://localhost:8080/",
          "height": 50
        },
        "outputId": "28bec2d6-7188-4685-af66-4c73ac88654d"
      },
      "source": [
        "simple_download(url=\"http://files.deeppavlov.ai/embeddings/glove.6B.100d.txt\", \n",
        "                destination=\"./glove.6B.100d.txt\")\n"
      ],
      "execution_count": 49,
      "outputs": [
        {
          "output_type": "stream",
          "text": [
            "2019-06-06 01:56:17.311 INFO in 'deeppavlov.core.data.utils'['utils'] at line 63: Downloading from http://files.deeppavlov.ai/embeddings/glove.6B.100d.txt to glove.6B.100d.txt\n",
            "347MB [00:26, 12.9MB/s]\n"
          ],
          "name": "stderr"
        }
      ]
    },
    {
      "cell_type": "code",
      "metadata": {
        "id": "phEjBrRzgKgZ",
        "colab_type": "code",
        "colab": {
          "base_uri": "https://localhost:8080/",
          "height": 33
        },
        "outputId": "667609ec-8fa5-4828-f056-730319e902b3"
      },
      "source": [
        "embedder = GloVeEmbedder(load_path='./glove.6B.100d.txt',\n",
        "                         dim=100, pad_zero=True)"
      ],
      "execution_count": 50,
      "outputs": [
        {
          "output_type": "stream",
          "text": [
            "2019-06-06 02:01:12.890 INFO in 'deeppavlov.models.embedders.glove_embedder'['glove_embedder'] at line 52: [loading GloVe embeddings from `/content/glove.6B.100d.txt`]\n"
          ],
          "name": "stderr"
        }
      ]
    },
    {
      "cell_type": "code",
      "metadata": {
        "id": "3tga6l7QhQn8",
        "colab_type": "code",
        "colab": {
          "base_uri": "https://localhost:8080/",
          "height": 33
        },
        "outputId": "33e99756-c7b8-4990-aacd-b2bf30eed95d"
      },
      "source": [
        "# output shape is (batch_size x max_num_tokens_in_the_batch x embedding_dim)\n",
        "embedded_batch = embedder(str_lower(tokenizer(['Is it freezing in Offerman, California?']))) \n",
        "len(embedded_batch), len(embedded_batch[0]), embedded_batch[0][0].shape"
      ],
      "execution_count": 55,
      "outputs": [
        {
          "output_type": "execute_result",
          "data": {
            "text/plain": [
              "(1, 8, (100,))"
            ]
          },
          "metadata": {
            "tags": []
          },
          "execution_count": 55
        }
      ]
    },
    {
      "cell_type": "code",
      "metadata": {
        "id": "VibIyGy2hjkN",
        "colab_type": "code",
        "colab": {}
      },
      "source": [
        "from deeppavlov.models.embedders.tfidf_weighted_embedder import TfidfWeightedEmbedder"
      ],
      "execution_count": 0,
      "outputs": []
    },
    {
      "cell_type": "code",
      "metadata": {
        "id": "LGMnTkYhhl9p",
        "colab_type": "code",
        "colab": {}
      },
      "source": [
        "\n",
        "weighted_embedder = TfidfWeightedEmbedder(\n",
        "    embedder=embedder,  # our GloVe embedder instance\n",
        "    tokenizer=tokenizer,  # our tokenizer instance\n",
        "    mean=True,  # to return one vector per sample\n",
        "    vectorizer=tfidf  # our TF-IDF vectorizer\n",
        ")"
      ],
      "execution_count": 0,
      "outputs": []
    },
    {
      "cell_type": "code",
      "metadata": {
        "id": "fPCZ3SYThogF",
        "colab_type": "code",
        "colab": {
          "base_uri": "https://localhost:8080/",
          "height": 33
        },
        "outputId": "f09afbe2-c0ad-42f5-91a5-9ea6468ed115"
      },
      "source": [
        "\n",
        "# output shape is (batch_size x  embedding_dim)\n",
        "embedded_batch = weighted_embedder(str_lower(tokenizer(['Is it freezing in Offerman, California?']))) \n",
        "len(embedded_batch), embedded_batch[0].shape"
      ],
      "execution_count": 58,
      "outputs": [
        {
          "output_type": "execute_result",
          "data": {
            "text/plain": [
              "(1, (100,))"
            ]
          },
          "metadata": {
            "tags": []
          },
          "execution_count": 58
        }
      ]
    },
    {
      "cell_type": "code",
      "metadata": {
        "id": "rKd65if8hua4",
        "colab_type": "code",
        "colab": {}
      },
      "source": [
        "from deeppavlov.metrics.accuracy import sets_accuracy"
      ],
      "execution_count": 0,
      "outputs": []
    },
    {
      "cell_type": "code",
      "metadata": {
        "id": "ecZ3MspOhwrX",
        "colab_type": "code",
        "colab": {}
      },
      "source": [
        "\n",
        "# get all train and valid data from iterator\n",
        "x_train, y_train = train_iterator.get_instances(data_type=\"train\")\n",
        "x_valid, y_valid = train_iterator.get_instances(data_type=\"valid\")"
      ],
      "execution_count": 0,
      "outputs": []
    },
    {
      "cell_type": "code",
      "metadata": {
        "id": "Ww2tN2Sah9wH",
        "colab_type": "code",
        "colab": {
          "base_uri": "https://localhost:8080/",
          "height": 50
        },
        "outputId": "55234c97-7570-46d7-ea28-17bdeaa25851"
      },
      "source": [
        "# initialize sklearn classifier, all parameters for classifier could be passed\n",
        "cls = SklearnComponent(\n",
        "    model_class=\"sklearn.linear_model:LogisticRegression\",\n",
        "    infer_method=\"predict\",\n",
        "    save_path='./logreg_v0.pkl',\n",
        "    load_path='./logreg_v0.pkl',\n",
        "    C=1,\n",
        "    mode='train')"
      ],
      "execution_count": 61,
      "outputs": [
        {
          "output_type": "stream",
          "text": [
            "2019-06-06 02:04:35.147 WARNING in 'deeppavlov.models.sklearn.sklearn_component'['sklearn_component'] at line 218: Cannot load model from /content/logreg_v0.pkl\n",
            "2019-06-06 02:04:35.148 INFO in 'deeppavlov.models.sklearn.sklearn_component'['sklearn_component'] at line 165: Initializing model sklearn.linear_model:LogisticRegression from scratch\n"
          ],
          "name": "stderr"
        }
      ]
    },
    {
      "cell_type": "code",
      "metadata": {
        "id": "oMXFl-yRkGIK",
        "colab_type": "code",
        "colab": {
          "base_uri": "https://localhost:8080/",
          "height": 50
        },
        "outputId": "d0874ef0-35a4-4508-80a6-536ba5dfc8a2"
      },
      "source": [
        "\n",
        "# fit sklearn classifier and save it\n",
        "cls.fit(tfidf(x_train), y_train)\n",
        "cls.save()"
      ],
      "execution_count": 62,
      "outputs": [
        {
          "output_type": "stream",
          "text": [
            "2019-06-06 02:13:54.943 INFO in 'deeppavlov.models.sklearn.sklearn_component'['sklearn_component'] at line 108: Fitting model sklearn.linear_model:LogisticRegression\n",
            "2019-06-06 02:13:55.270 INFO in 'deeppavlov.models.sklearn.sklearn_component'['sklearn_component'] at line 240: Saving model to /content/logreg_v0.pkl\n"
          ],
          "name": "stderr"
        }
      ]
    },
    {
      "cell_type": "code",
      "metadata": {
        "id": "xcNiJdNUkMdX",
        "colab_type": "code",
        "colab": {}
      },
      "source": [
        "y_valid_pred = cls(tfidf(x_valid))"
      ],
      "execution_count": 0,
      "outputs": []
    },
    {
      "cell_type": "code",
      "metadata": {
        "id": "POqNfKtfkSWL",
        "colab_type": "code",
        "colab": {
          "base_uri": "https://localhost:8080/",
          "height": 66
        },
        "outputId": "006bcb4f-9889-481f-cb92-b19d519637b0"
      },
      "source": [
        "# Let's look into obtained result\n",
        "print(\"Text sample: {}\".format(x_valid[10]))\n",
        "print(\"True label: {}\".format(y_valid[10]))\n",
        "print(\"Predicted label: {}\".format(y_valid_pred[10]))"
      ],
      "execution_count": 65,
      "outputs": [
        {
          "output_type": "stream",
          "text": [
            "Text sample: I want to hear the new movement from Richard Harvey\n",
            "True label: ['PlayMusic']\n",
            "Predicted label: PlayMusic\n"
          ],
          "name": "stdout"
        }
      ]
    },
    {
      "cell_type": "code",
      "metadata": {
        "id": "YzCpWkaIkay3",
        "colab_type": "code",
        "colab": {
          "base_uri": "https://localhost:8080/",
          "height": 33
        },
        "outputId": "6db5fbd9-cdf8-4bb8-fcb5-d1c30b1c9c56"
      },
      "source": [
        "\n",
        "# let's calculate sets accuracy (because each element is a list of labels)\n",
        "sets_accuracy(np.squeeze(y_valid), y_valid_pred)"
      ],
      "execution_count": 66,
      "outputs": [
        {
          "output_type": "execute_result",
          "data": {
            "text/plain": [
              "0.982373308152345"
            ]
          },
          "metadata": {
            "tags": []
          },
          "execution_count": 66
        }
      ]
    }
  ]
}
